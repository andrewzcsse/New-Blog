{
 "cells": [
  {
   "cell_type": "markdown",
   "metadata": {},
   "source": [
    "---\n",
    "title: Pair Review Blog Post- Trevor Vick & Andrew Zaletski\n",
    "description: Full notebook to demonstrate our understanding and application of previously discussed coding concepts in class- JS objects, finite state machines, and single responsibility principle\n",
    "type: collab\n",
    "layout: post\n",
    "courses: { csse: {week: 19} }\n",
    "toc: true \n",
    "comments: true\n",
    "---"
   ]
  },
  {
   "cell_type": "markdown",
   "metadata": {},
   "source": [
    "## JavaScript Objects\n",
    "- Below is an example code for JS objects that uses function `getStudentInfo` to reference the information provided for each object written out in the array \n",
    "\n",
    "```javascript\n",
    "const students = [\n",
    "    {\n",
    "        name: \"Trevor\",\n",
    "        grade: 10,\n",
    "        age: this.getAge()\n",
    "        birthYear: 2007,\n",
    "        getAge: function () {\n",
    "            const currentTime = new Date()\n",
    "            const year = currentTime.getFullYear()\n",
    "            return year - birthYear \n",
    "        }\n",
    "    },\n",
    "    {\n",
    "        name: \"Andrew\",\n",
    "        grade: 12,\n",
    "        age: this.getAge\n",
    "        birthYear: 2006,\n",
    "        getAge: function () {\n",
    "            const currentTime = new Date()\n",
    "            const year = currentTime.getFullYear()\n",
    "            return year - birthYear \n",
    "        }\n",
    "    },\n",
    "    {\n",
    "        name: Alex\n",
    "        grade: 9,\n",
    "        age: this.getAge()\n",
    "        birthYear: 2016,\n",
    "        getAge: function () {\n",
    "            const currentTime = new Date()\n",
    "            const year = currentTime.getFullYear()\n",
    "            return year - birthYear \n",
    "        }\n",
    "    },\n",
    "    {\n",
    "        name: \"Travis\",\n",
    "        grade: 9\n",
    "        age: this.getAge(),\n",
    "        birthYear: 2008,\n",
    "        getAge: function () {\n",
    "            const currentTime = new Date()\n",
    "            const year = currentTime.getFullYear()\n",
    "            return year - birthYear \n",
    "        }\n",
    "    },\n",
    "] \n",
    "```\n",
    "- Now we have a class setup where we can reference any of the students by listing their key (name) and then asking for a specific value like `Trevor.age` or `Andrew.grade`"
   ]
  },
  {
   "cell_type": "markdown",
   "metadata": {},
   "source": [
    "## Finite State Machines\n",
    "- We were able to apply finite state machines through the `timerActive` set up in `GameEnv.js`, whcih gets imported and used at other parts in the game\n",
    "\n",
    "```javascript\n",
    "if (GameEnv.timerActive) {\n",
    "    const newTime = time + GameEnv.timerInterval\n",
    "    GameEnv.time = newTime                \n",
    "    if (document.getElementById('timeScore')) {\n",
    "        document.getElementById('timeScore').textContent = (time/1000).toFixed(2) \n",
    "    }\n",
    "        return newTime\n",
    "    }\n",
    "    if (document.getElementById('timeScore')) {\n",
    "        document.getElementById('timeScore').textContent = (time/1000).toFixed(2) \n",
    "    }\n",
    "```\n"
   ]
  }
 ],
 "metadata": {
  "language_info": {
   "name": "python"
  },
  "orig_nbformat": 4
 },
 "nbformat": 4,
 "nbformat_minor": 2
}
